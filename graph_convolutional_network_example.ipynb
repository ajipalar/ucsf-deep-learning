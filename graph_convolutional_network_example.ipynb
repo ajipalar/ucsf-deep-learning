{
 "cells": [
  {
   "cell_type": "code",
   "execution_count": null,
   "id": "ed2ba445",
   "metadata": {},
   "outputs": [],
   "source": [
    "#Authors - Aji Palar, Albert Xu, Mitchel Cole\n",
    "\n",
    "#Problem Defintion\n",
    "\"\"\"\n",
    "For complex biological systems we assume that there is some \n",
    "true physical interaction network.\n",
    "\n",
    "An interaction occurs or does not [0, 1] as determined by some orthoganl measures\n",
    "For N genes M measurements are taken.\n",
    "\n",
    "The problem is to predict the true interactions from the M measurements\n",
    "\"\"\"\n",
    "\n",
    "# Import modules\n",
    "import numpy as np\n",
    "from matplotlib import pyplot as plt\n",
    "\n",
    "%matplotlib inline\n",
    "\n",
    "from IPython.display import Image, display\n",
    "\n",
    "import torch\n",
    "import torch.nn as nn\n",
    "import torch.nn.functional as F\n",
    "import torch.optim as optim\n",
    "\n",
    "import torchvision\n",
    "from torchvision import datasets, transforms\n",
    "from torchvision.utils import save_image\n",
    "import pandas as pd\n",
    "\n",
    "###Define Inputs and Prepocessing\n",
    "\n",
    "## Data Normalization\n",
    "\n",
    "## Feature Augmentation - Clustering using different algorithms\n",
    "\n",
    "## Input bxNxNx6 matrix\n",
    "## b batches, NxN symmetric matrix, 6 channels\n",
    "\n",
    "# Different convolution kernals\n",
    "\n",
    "\n",
    "###Define training, validaiton, and test set\n",
    "\n",
    "###Define Model Architecutre\n",
    "\n",
    "###Define Loss function\n",
    "\n",
    "###Defining optimization\n",
    "\n",
    "###Define Training regime"
   ]
  }
 ],
 "metadata": {
  "kernelspec": {
   "display_name": "Python 3",
   "language": "python",
   "name": "python3"
  },
  "language_info": {
   "codemirror_mode": {
    "name": "ipython",
    "version": 3
   },
   "file_extension": ".py",
   "mimetype": "text/x-python",
   "name": "python",
   "nbconvert_exporter": "python",
   "pygments_lexer": "ipython3",
   "version": "3.7.10"
  }
 },
 "nbformat": 4,
 "nbformat_minor": 5
}
